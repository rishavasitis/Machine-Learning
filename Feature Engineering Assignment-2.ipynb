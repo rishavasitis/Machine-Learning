{
 "cells": [
  {
   "cell_type": "markdown",
   "id": "7261288c-5f88-4f8a-bd47-32003a82c837",
   "metadata": {},
   "source": [
    "Q1. What is Min-Max scaling, and how is it used in data preprocessing? Provide an example to illustrate its\n",
    "    application.\n",
    "    \n",
    "Q2. What is the Unit Vector technique in feature scaling, and how does it differ from Min-Max scaling?\n",
    "    Provide an example to illustrate its application.\n",
    "    \n",
    "Q3. What is PCA (Principle Component Analysis), and how is it used in dimensionality reduction? Provide an\n",
    "    example to illustrate its application.\n",
    "    \n",
    "Q4. What is the relationship between PCA and Feature Extraction, and how can PCA be used for Feature\n",
    "    Extraction? Provide an example to illustrate this concept.\n",
    "    \n",
    "Q5. You are working on a project to build a recommendation system for a food delivery service. The dataset\n",
    "    contains features such as price, rating, and delivery time. Explain how you would use Min-Max scaling to\n",
    "    preprocess the data.\n",
    "    \n",
    "Q6. You are working on a project to build a model to predict stock prices. The dataset contains many\n",
    "    features, such as company financial data and market trends. Explain how you would use PCA to reduce the\n",
    "    dimensionality of the dataset.\n",
    "    \n",
    "Q7. For a dataset containing the following values: [1, 5, 10, 15, 20], perform Min-Max scaling to transform the\n",
    "    values to a range of -1 to 1.\n",
    "    \n",
    "Q8. For a dataset containing the following features: [height, weight, age, gender, blood pressure], perform\n",
    "    Feature Extraction using PCA. How many principal components would you choose to retain, and why?"
   ]
  },
  {
   "cell_type": "code",
   "execution_count": null,
   "id": "3394ea97-0954-4e96-90b7-06eaaa437664",
   "metadata": {},
   "outputs": [],
   "source": []
  },
  {
   "cell_type": "markdown",
   "id": "de856273-465f-430e-9f3e-d1a8b9501747",
   "metadata": {},
   "source": [
    "Q1: Min-Max Scaling\n",
    "- Min-Max scaling is a feature scaling technique used in data preprocessing to transform numerical features to a specific range, typically between 0 and 1.\n",
    "- Formula: Scaled Value = (X - X_min) / (X_max - X_min)\n",
    "- Example: Scaling a feature \"price\" in a food delivery dataset. If the price ranges from $5 to $20, and you want to scale it to a 0-1 range:\n",
    "  - Original price: $15\n",
    "  - Scaled price: (15 - 5) / (20 - 5) = 0.625\n",
    "\n",
    "Q2: Unit Vector Scaling\n",
    "- Unit Vector scaling, also known as normalization, scales features to have a unit norm (length).\n",
    "- It differs from Min-Max scaling because it scales features to unit length, making them fall on a unit hypersphere.\n",
    "- Example: Normalizing a feature vector [3, 4]:\n",
    "  - Original vector length: sqrt(3^2 + 4^2) = 5\n",
    "  - Normalized vector: [3/5, 4/5]\n",
    "\n",
    "Q3: PCA (Principal Component Analysis) and Dimensionality Reduction\n",
    "- PCA is a technique for dimensionality reduction. It identifies the most significant components (principal components) of data while minimizing information loss.\n",
    "- Example: Reducing the dimensionality of an image dataset to retain the most important visual patterns for image recognition tasks.\n",
    "\n",
    "Q4: Relationship between PCA and Feature Extraction\n",
    "- PCA can be used for feature extraction by transforming the original features into a new set of features (principal components) that capture the most significant information.\n",
    "- Example: In image analysis, original pixel values can be transformed into principal components representing important visual patterns like edges, textures, and colors.\n",
    "\n",
    "Q5: Using Min-Max Scaling in a Food Delivery Recommendation System\n",
    "- Min-Max scaling can be applied to features like \"price,\" \"rating,\" and \"delivery time\" to ensure they are on a consistent scale.\n",
    "- For each feature, calculate the minimum (X_min) and maximum (X_max) values from the dataset.\n",
    "- Use the Min-Max scaling formula to scale each feature to a 0-1 range.\n",
    "\n",
    "Q6: Using PCA for Dimensionality Reduction in Stock Price Prediction\n",
    "- Apply PCA to reduce the dimensionality of the dataset containing financial and market trend features.\n",
    "- Calculate the explained variance ratio for each principal component.\n",
    "- Select a sufficient number of principal components that retain a high proportion of the total variance, reducing data dimensionality while preserving important information.\n",
    "\n",
    "Q7: Min-Max Scaling for [-1, 1] Range\n",
    "- To scale values to a range of -1 to 1, use the Min-Max scaling formula with X_min = -1 and X_max = 1:\n",
    "  - Original values: [1, 5, 10, 15, 20]\n",
    "  - Scaled values: [(-1), (-0.5), 0, 0.5, 1]\n",
    "\n",
    "Q8: Feature Extraction using PCA\n",
    "- Perform PCA on the feature set [height, weight, age, gender, blood pressure].\n",
    "- Calculate the explained variance ratio for each principal component.\n",
    "- Choose a number of principal components that retain a significant portion of the total variance (e.g., 95%) to reduce dimensionality while retaining critical information. The choice depends on the specific project requirements."
   ]
  },
  {
   "cell_type": "code",
   "execution_count": null,
   "id": "8c1d4340-1d97-4df5-bf13-13e6cd84374e",
   "metadata": {},
   "outputs": [],
   "source": []
  }
 ],
 "metadata": {
  "kernelspec": {
   "display_name": "Python 3 (ipykernel)",
   "language": "python",
   "name": "python3"
  },
  "language_info": {
   "codemirror_mode": {
    "name": "ipython",
    "version": 3
   },
   "file_extension": ".py",
   "mimetype": "text/x-python",
   "name": "python",
   "nbconvert_exporter": "python",
   "pygments_lexer": "ipython3",
   "version": "3.10.8"
  }
 },
 "nbformat": 4,
 "nbformat_minor": 5
}
