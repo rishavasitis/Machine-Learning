{
 "cells": [
  {
   "cell_type": "markdown",
   "id": "6e48abe6-8b42-4eff-9815-c82411a65a3a",
   "metadata": {},
   "source": [
    "Q1. What is data encoding? How is it useful in data science?\n",
    "\n",
    "Q2. What is nominal encoding? Provide an example of how you would use it in a real-world scenario.\n",
    "\n",
    "Q3. In what situations is nominal encoding preferred over one-hot encoding? Provide a practical example.\n",
    "\n",
    "Q4. Suppose you have a dataset containing categorical data with 5 unique values. Which encoding\n",
    "    technique would you use to transform this data into a format suitable for machine learning algorithms?\n",
    "    Explain why you made this choice.\n",
    "\n",
    "Q5. In a machine learning project, you have a dataset with 1000 rows and 5 columns. Two of the columns\n",
    "    are categorical, and the remaining three columns are numerical. If you were to use nominal encoding to\n",
    "    transform the categorical data, how many new columns would be created? Show your calculations.\n",
    "\n",
    "Q6. You are working with a dataset containing information about different types of animals, including their\n",
    "    species, habitat, and diet. Which encoding technique would you use to transform the categorical data into\n",
    "    a format suitable for machine learning algorithms? Justify your answer.\n",
    "\n",
    "Q7.You are working on a project that involves predicting customer churn for a telecommunications\n",
    "    company. You have a dataset with 5 features, including the customer's gender, age, contract type,\n",
    "    monthly charges, and tenure. Which encoding technique(s) would you use to transform the categorical\n",
    "    data into numerical data? Provide a step-by-step explanation of how you would implement the encoding."
   ]
  },
  {
   "cell_type": "code",
   "execution_count": null,
   "id": "92050337-a857-4578-bd9c-0f5e364757e2",
   "metadata": {},
   "outputs": [],
   "source": []
  },
  {
   "cell_type": "markdown",
   "id": "ce77f00b-0e6d-457c-8993-f3c92d8801b7",
   "metadata": {},
   "source": [
    "Q1: Data Encoding in Data Science\n",
    "- Data encoding is the process of converting categorical data (text-based labels or categories) into numerical format, making it suitable for machine learning algorithms.\n",
    "- Useful in Data Science: Data encoding allows algorithms to work with categorical data, which is essential for building predictive models. It transforms non-numeric attributes into a format that algorithms can understand and process.\n",
    "\n",
    "Q2: Nominal Encoding\n",
    "- Nominal encoding is a technique to convert categorical data into unique numerical codes. Each category is assigned a specific numeric value.\n",
    "- Example: In a real-world scenario, consider a dataset with a \"color\" column containing values like \"red,\" \"blue,\" and \"green.\" You can assign numeric codes, e.g., \"red\" as 1, \"blue\" as 2, and \"green\" as 3.\n",
    "\n",
    "Q3: When to Prefer Nominal Encoding over One-Hot Encoding\n",
    "- Nominal encoding is preferred when there is an inherent order or ranking within the categories.\n",
    "- Practical Example: In a survey dataset with a \"customer satisfaction\" column, you might encode \"very dissatisfied\" as 1, \"dissatisfied\" as 2, and so on, representing the ordinal nature of the responses.\n",
    "\n",
    "Q4: Choosing an Encoding Technique for 5 Unique Values\n",
    "- For a dataset with 5 unique categorical values, you can choose nominal encoding when there's an order among these values. If there's no inherent order, one-hot encoding is suitable.\n",
    "- Explanation: If the categories represent, for example, product ratings from \"low\" to \"high,\" nominal encoding is appropriate. If the categories represent different product types, one-hot encoding would be better to avoid implying any ordinal relationship.\n",
    "\n",
    "Q5: Calculating New Columns for Nominal Encoding\n",
    "- If you use nominal encoding on two categorical columns, you'll create new columns equal to the number of unique categories in those columns.\n",
    "- Example: If you have a \"color\" column with 5 unique values and a \"size\" column with 3 unique values, nominal encoding would create 5 + 3 = 8 new columns in total.\n",
    "\n",
    "Q6: Encoding for Animal Dataset\n",
    "- For an animal dataset with categorical attributes like \"species,\" \"habitat,\" and \"diet,\" you'd typically use nominal encoding.\n",
    "- Justification: These categorical attributes do not have a natural order or ranking, so nominal encoding is suitable. It assigns unique codes to each category for use in machine learning models.\n",
    "\n",
    "Q7: Encoding for Customer Churn Prediction\n",
    "- To transform categorical data into numerical data for the customer churn prediction project, you can use label encoding or ordinal encoding for the \"contract type\" and \"gender\" columns.\n",
    "- Step-by-Step Explanation:\n",
    "  1. Use label encoding to assign numeric labels to \"gender\" (e.g., \"male\" as 0, \"female\" as 1).\n",
    "  2. Use ordinal encoding for \"contract type\" if there is a natural order (e.g., \"month-to-month\" as 0, \"one year\" as 1, \"two years\" as 2).\n",
    "  3. For \"monthly charges\" and \"tenure,\" no encoding is needed, as they are already numeric."
   ]
  },
  {
   "cell_type": "code",
   "execution_count": null,
   "id": "522ea9a8-2e48-4154-8f2f-b5852e409959",
   "metadata": {},
   "outputs": [],
   "source": []
  }
 ],
 "metadata": {
  "kernelspec": {
   "display_name": "Python 3 (ipykernel)",
   "language": "python",
   "name": "python3"
  },
  "language_info": {
   "codemirror_mode": {
    "name": "ipython",
    "version": 3
   },
   "file_extension": ".py",
   "mimetype": "text/x-python",
   "name": "python",
   "nbconvert_exporter": "python",
   "pygments_lexer": "ipython3",
   "version": "3.10.8"
  }
 },
 "nbformat": 4,
 "nbformat_minor": 5
}
