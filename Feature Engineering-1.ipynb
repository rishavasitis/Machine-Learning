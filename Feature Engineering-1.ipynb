{
 "cells": [
  {
   "cell_type": "markdown",
   "id": "cae0a835-03cc-4f3a-ad17-304ca7dad391",
   "metadata": {},
   "source": [
    "Q1. What is the Filter method in feature selection, and how does it work?\n",
    "\n",
    "Q2. How does the Wrapper method differ from the Filter method in feature selection?\n",
    "\n",
    "Q3. What are some common techniques used in Embedded feature selection methods?\n",
    "\n",
    "Q4. What are some drawbacks of using the Filter method for feature selection?\n",
    "\n",
    "Q5. In which situations would you prefer using the Filter method over the Wrapper method for feature\n",
    "    selection?\n",
    "\n",
    "Q6. In a telecom company, you are working on a project to develop a predictive model for customer churn.\n",
    "    You are unsure of which features to include in the model because the dataset contains several different\n",
    "    ones. Describe how you would choose the most pertinent attributes for the model using the Filter Method.\n",
    "\n",
    "Q7. You are working on a project to predict the outcome of a soccer match. You have a large dataset with\n",
    "    many features, including player statistics and team rankings. Explain how you would use the Embedded\n",
    "    method to select the most relevant features for the model.\n",
    "\n",
    "Q8. You are working on a project to predict the price of a house based on its features, such as size, location,\n",
    "    and age. You have a limited number of features, and you want to ensure that you select the most important\n",
    "    ones for the model. Explain how you would use the Wrapper method to select the best set of features for the\n",
    "    predictor."
   ]
  },
  {
   "cell_type": "code",
   "execution_count": null,
   "id": "7838f635-9f13-4373-8553-4972a6fd516e",
   "metadata": {},
   "outputs": [],
   "source": []
  },
  {
   "cell_type": "markdown",
   "id": "e11ffd9c-978e-4be0-a09f-6a384c163dc1",
   "metadata": {},
   "source": [
    "Q1: Filter Method in Feature Selection\n",
    "- The Filter method is a feature selection technique that filters out irrelevant or redundant features based on statistical measures or domain knowledge.\n",
    "- How it works: Features are ranked or scored independently of the machine learning algorithm. Common metrics include correlation, chi-squared, information gain, and mutual information. Features are selected or ranked based on their scores, and the top-ranked features are retained.\n",
    "\n",
    "Q2: Difference between Filter and Wrapper Methods\n",
    "- Wrapper methods evaluate feature subsets by training and testing models with different feature combinations. They consider the interaction between features and can be computationally expensive.\n",
    "- Filter methods, as mentioned earlier, evaluate features independently of the machine learning algorithm and are computationally less demanding.\n",
    "\n",
    "Q3: Embedded Feature Selection Methods\n",
    "- Embedded methods select or eliminate features as part of the model training process. Common techniques include:\n",
    "  - L1 Regularization (Lasso): Encourages sparsity by driving some feature coefficients to zero.\n",
    "  - Tree-based algorithms (e.g., Random Forest): Assess feature importance during training.\n",
    "  - Recursive Feature Elimination (RFE): Iteratively removes the least significant features based on model performance.\n",
    "  - Feature Importance from Gradient Boosting: Assess feature importance from gradient boosting algorithms like XGBoost.\n",
    "\n",
    "Q4: Drawbacks of Filter Method\n",
    "- Filter methods do not consider the interactions between features.\n",
    "- They might filter out relevant features that have strong interactions with other features.\n",
    "- Filter methods rely on pre-defined criteria, which may not be optimal for a specific machine learning problem.\n",
    "\n",
    "Q5: When to Use Filter Method over Wrapper Method\n",
    "- Use the Filter method when you have a large number of features and you want a quick initial selection of potentially relevant features.\n",
    "- It's efficient for filtering out highly irrelevant features before applying more computationally expensive wrapper methods.\n",
    "- Filter methods are suitable when the relationship between individual features and the target variable is apparent.\n",
    "\n",
    "Q6: Using Filter Method in Telecom Customer Churn Project\n",
    "- Calculate feature scores (e.g., correlation, chi-squared, mutual information) with the target variable (churn).\n",
    "- Select the features with the highest scores, indicating the most relevant attributes for predicting customer churn.\n",
    "- This quick feature selection helps narrow down the candidate attributes for building predictive models.\n",
    "\n",
    "Q7: Using Embedded Method in Soccer Match Outcome Prediction\n",
    "- Train a machine learning model (e.g., gradient boosting) on the soccer match dataset.\n",
    "- Assess feature importance from the trained model, which reveals which player statistics and team rankings contribute most to match outcomes.\n",
    "- Select the most important features for the prediction model based on their feature importances.\n",
    "\n",
    "Q8: Using Wrapper Method in House Price Prediction\n",
    "- Employ a wrapper method like Recursive Feature Elimination (RFE).\n",
    "- Train a model with the limited set of features and evaluate its performance.\n",
    "- Recursively eliminate less significant features and retrain the model until optimal performance is achieved.\n",
    "- The final set of features retained by RFE represents the most important attributes for predicting house prices."
   ]
  },
  {
   "cell_type": "code",
   "execution_count": null,
   "id": "ee66b6a2-0027-4660-a3ac-6b7a535d2e81",
   "metadata": {},
   "outputs": [],
   "source": []
  }
 ],
 "metadata": {
  "kernelspec": {
   "display_name": "Python 3 (ipykernel)",
   "language": "python",
   "name": "python3"
  },
  "language_info": {
   "codemirror_mode": {
    "name": "ipython",
    "version": 3
   },
   "file_extension": ".py",
   "mimetype": "text/x-python",
   "name": "python",
   "nbconvert_exporter": "python",
   "pygments_lexer": "ipython3",
   "version": "3.10.8"
  }
 },
 "nbformat": 4,
 "nbformat_minor": 5
}
